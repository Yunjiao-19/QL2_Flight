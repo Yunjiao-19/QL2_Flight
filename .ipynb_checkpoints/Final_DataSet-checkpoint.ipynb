{
 "cells": [
  {
   "cell_type": "markdown",
   "metadata": {},
   "source": [
    "### Short Haul DF"
   ]
  },
  {
   "cell_type": "code",
   "execution_count": 2,
   "metadata": {},
   "outputs": [],
   "source": [
    "# DATA GRAIN:\n",
    "#expedia\n",
    "#date: April 2021-March 2022\n",
    "#fare_type: Economy and ECONOMY\n",
    "#departure_stops =1\n",
    "#duration_hrsint <=3\n",
    "#Top 3 CXR: AA, UA, DW\n",
    "#TOP 5 SHORT FLIGHTS\n",
    "#DFWORD\n",
    "#ORDDFW\n",
    "#ORDIAH\n",
    "#IAHORD\n",
    "#DFWATL\n",
    "    \n",
    "try:\n",
    "    ctx= snowflake.connector.connect(user='CMU',\n",
    "                                     password=\"ql2_analytics\",\n",
    "                                     account=\"zk56677\",\n",
    "                                     database='QL2_PROD',\n",
    "                                     schema='public',\n",
    "                                     warehouse='CMU_WAREHOUSE',\n",
    "                                     role='SYSADMIN' )\n",
    "    cursor = ctx.cursor()\n",
    "    cur = cursor.execute(\"\"\" \n",
    "    WITH df1 as(\n",
    "     SELECT \n",
    "         MARKET, SITE, CXR, QTS, QL2_QTS, DEPARTURE_DATE, QL2_DDATE, DEPARTURE_STOPS,FARE_TYPE, FARE, \n",
    "         FLIGHT_NUMBER, DEPARTURE_TIME, ROUTE, YEAR_MONTH, DURATION_FLIGHT,\n",
    "         LEFT(DURATION_FLIGHT,CHARINDEX(':',DURATION_FLIGHT)-1) AS DURATION_HRS, \n",
    "         CAST(DURATION_HRS AS FLOAT)DURATION_HRSINT\n",
    "     FROM CAPSTONE_RAW_AIRFARE_V \n",
    "     ),\n",
    "     df2 as(\n",
    "     SELECT *, EXTRACT(MONTH FROM QTS) AS MONTH, EXTRACT(YEAR FROM QTS) AS YEAR \n",
    "             FROM df1 WHERE (\n",
    "                 DURATION_HRSINT <=3 \n",
    "                 AND DEPARTURE_STOPS = 0 \n",
    "                 AND (FARE_TYPE = 'ECONOMY' \n",
    "                 OR FARE_TYPE = 'Economy') \n",
    "          )\n",
    "    )\n",
    "    SELECT * FROM df2 \n",
    "        WHERE \n",
    "        (CXR = 'AA' OR CXR = 'UA' OR CXR = 'DL') \n",
    "        AND  (MARKET = 'DFWORD' \n",
    "            OR MARKET = 'ORDDFW' \n",
    "            OR MARKET = 'ORDIAH' \n",
    "            OR MARKET = 'IAHORD' \n",
    "            OR MARKET = 'DFWATL')\n",
    "    ;\n",
    "    \n",
    " \n",
    "    \"\"\")\n",
    "\n",
    "    df_top5short_final = cur.fetch_pandas_all()\n",
    "    \n",
    "except Exception as e:\n",
    "    print(\"failed connecting to QL2_PROD\",e)\n"
   ]
  },
  {
   "cell_type": "markdown",
   "metadata": {},
   "source": [
    "### Med Haul DF"
   ]
  },
  {
   "cell_type": "code",
   "execution_count": 3,
   "metadata": {},
   "outputs": [],
   "source": [
    "#Splitting the departure_date into new columns of year/month\n",
    "    \n",
    "try:\n",
    "    ctx= snowflake.connector.connect(user='CMU',\n",
    "                                     password=\"ql2_analytics\",\n",
    "                                     account=\"zk56677\",\n",
    "                                     database='QL2_PROD',\n",
    "                                     schema='public',\n",
    "                                     warehouse='CMU_WAREHOUSE',\n",
    "                                     role='SYSADMIN' )\n",
    "    cursor = ctx.cursor()\n",
    "    cur = cursor.execute(\"\"\" \n",
    "    WITH df1 as(\n",
    "     SELECT \n",
    "         MARKET, SITE, CXR, QTS, QL2_QTS, DEPARTURE_DATE, QL2_DDATE, DEPARTURE_STOPS,FARE_TYPE, FARE, \n",
    "         FLIGHT_NUMBER, DEPARTURE_TIME, ROUTE, YEAR_MONTH, DURATION_FLIGHT,\n",
    "         LEFT(DURATION_FLIGHT,CHARINDEX(':',DURATION_FLIGHT)-1) AS DURATION_HRS, \n",
    "         CAST(DURATION_HRS AS FLOAT)DURATION_HRSINT\n",
    "     FROM CAPSTONE_RAW_AIRFARE_V \n",
    "     ), \n",
    "     df2 as(\n",
    "         SELECT *, EXTRACT(MONTH FROM QTS) AS MONTH, EXTRACT(YEAR FROM QTS) AS YEAR \n",
    "             FROM df1 WHERE (\n",
    "                 (DURATION_HRSINT >3 AND DURATION_HRSINT <= 6) \n",
    "                 AND DEPARTURE_STOPS =0\n",
    "                 AND (FARE_TYPE = 'ECONOMY'OR FARE_TYPE = 'Economy') \n",
    "          )\n",
    "     )\n",
    "     SELECT * FROM df2 \n",
    "        WHERE \n",
    "        (CXR = 'AA' OR CXR = 'UA' OR CXR = 'DL') \n",
    "        AND  (MARKET = 'LAXHNL' \n",
    "            OR MARKET = 'EWRIAH' \n",
    "            OR MARKET = 'LAXOGG' \n",
    "            OR MARKET = 'LAXMCO' \n",
    "            OR MARKET = 'LGADFW')\n",
    "      ;\n",
    " \n",
    "    \"\"\")\n",
    "\n",
    "    df_top5med_final = cur.fetch_pandas_all()\n",
    "    \n",
    "except Exception as e:\n",
    "    print(\"failed connecting to QL2_PROD\",e)\n"
   ]
  },
  {
   "cell_type": "markdown",
   "metadata": {},
   "source": [
    "### Long Haul DF"
   ]
  },
  {
   "cell_type": "code",
   "execution_count": 4,
   "metadata": {},
   "outputs": [],
   "source": [
    "#Splitting the departure_date into new columns of year/month\n",
    "    \n",
    "try:\n",
    "    ctx= snowflake.connector.connect(user='CMU',\n",
    "                                     password=\"ql2_analytics\",\n",
    "                                     account=\"zk56677\",\n",
    "                                     database='QL2_PROD',\n",
    "                                     schema='public',\n",
    "                                     warehouse='CMU_WAREHOUSE',\n",
    "                                     role='SYSADMIN' )\n",
    "    cursor = ctx.cursor()\n",
    "    cur = cursor.execute(\"\"\" \n",
    "    WITH df1 as(\n",
    "     SELECT \n",
    "         MARKET, SITE, CXR, QTS, QL2_QTS, DEPARTURE_DATE, QL2_DDATE, DEPARTURE_STOPS,FARE_TYPE, FARE, \n",
    "         FLIGHT_NUMBER, DEPARTURE_TIME, ROUTE, YEAR_MONTH, DURATION_FLIGHT,\n",
    "         LEFT(DURATION_FLIGHT,CHARINDEX(':',DURATION_FLIGHT)-1) AS DURATION_HRS, \n",
    "         CAST(DURATION_HRS AS FLOAT)DURATION_HRSINT\n",
    "     FROM CAPSTONE_RAW_AIRFARE_V \n",
    "     ), \n",
    "     df2 as(\n",
    "         SELECT *, EXTRACT(MONTH FROM QTS) AS MONTH, EXTRACT(YEAR FROM QTS) AS YEAR \n",
    "             FROM df1 WHERE (\n",
    "                 DURATION_HRSINT >6 \n",
    "                 AND DEPARTURE_STOPS = 0\n",
    "                 AND (FARE_TYPE = 'ECONOMY'OR FARE_TYPE = 'Economy') \n",
    "          )\n",
    "     )\n",
    "     SELECT * FROM df2 \n",
    "        WHERE \n",
    "        (CXR = 'AA' OR CXR = 'UA' OR CXR = 'DL') \n",
    "        AND  (MARKET = 'EZEMIA' \n",
    "            OR MARKET = 'MIAEZE' \n",
    "            OR MARKET = 'MIAGRU' \n",
    "            OR MARKET = 'LHRJFK' \n",
    "            OR MARKET = 'SEAHND')\n",
    "      ;\n",
    " \n",
    "    \"\"\")\n",
    "\n",
    "    df_top5long_final = cur.fetch_pandas_all()\n",
    "    \n",
    "except Exception as e:\n",
    "    print(\"failed connecting to QL2_PROD\",e)\n"
   ]
  },
  {
   "cell_type": "markdown",
   "metadata": {},
   "source": [
    "### Combining all 3 dataset"
   ]
  },
  {
   "cell_type": "code",
   "execution_count": 5,
   "metadata": {},
   "outputs": [],
   "source": [
    "#Combining short, med, long haul dfs together\n",
    "short_med = pd.concat([df_top5short_final, df_top5med_final], axis=0)\n",
    "df_all = pd.concat([short_med, df_top5long_final], axis=0)"
   ]
  },
  {
   "cell_type": "markdown",
   "metadata": {},
   "source": [
    "### Adding the Column Features for Short, Med, Long Haul"
   ]
  },
  {
   "cell_type": "code",
   "execution_count": 6,
   "metadata": {},
   "outputs": [],
   "source": [
    "#Adding the new short, med, long haul features\n",
    "df_all['SHORT_HAUL'] = df_all['DURATION_HRSINT'].apply(lambda x: 1 if x <= 3 else 0)\n",
    "df_all['MED_HAUL'] = df_all['DURATION_HRSINT'].apply(lambda x: 1 if x > 3 and x <=6  else 0)\n",
    "df_all['LONG_HAUL'] = df_all['DURATION_HRSINT'].apply(lambda x: 1 if x > 6 else 0)"
   ]
  },
  {
   "cell_type": "code",
   "execution_count": null,
   "metadata": {},
   "outputs": [],
   "source": []
  },
  {
   "cell_type": "markdown",
   "metadata": {},
   "source": [
    "# cleaning data"
   ]
  },
  {
   "cell_type": "code",
   "execution_count": null,
   "metadata": {},
   "outputs": [],
   "source": [
    "a = df_all"
   ]
  },
  {
   "cell_type": "code",
   "execution_count": null,
   "metadata": {},
   "outputs": [],
   "source": [
    "# check uniqueness of each column\n",
    "#a['CURRENCY'].unique()\n",
    "#a['RDATE'].unique()"
   ]
  },
  {
   "cell_type": "code",
   "execution_count": null,
   "metadata": {},
   "outputs": [],
   "source": [
    "import time\n",
    "import datetime as dt\n",
    "\n",
    "# transforming type of DATE and QTS\n",
    "a['tDATE'] = pd.to_datetime(a['DEPARTURE_DATE'])\n",
    "a['tqts'] = pd.to_datetime(a['QTS'])\n",
    "# calculating time till Departure\n",
    "a['re'] = a['tDATE'] - a['tqts']\n",
    "a"
   ]
  },
  {
   "cell_type": "code",
   "execution_count": null,
   "metadata": {},
   "outputs": [],
   "source": [
    "# calculate days till departure\n",
    "a['DaysTillDeparture'] = a['re'].dt.components.days\n",
    "a"
   ]
  },
  {
   "cell_type": "code",
   "execution_count": null,
   "metadata": {},
   "outputs": [],
   "source": [
    "# cast all string entry in FARE_TYPE column to lower case\n",
    "a['FARE_TYPE'] = a['FARE_TYPE'].apply(lambda x: str.lower(x))"
   ]
  },
  {
   "cell_type": "code",
   "execution_count": null,
   "metadata": {},
   "outputs": [],
   "source": [
    "# clean the data/type of DURATION\n",
    "\n",
    "# first convert to string\n",
    "def convert_to_string (x):\n",
    "    string = str(x).split('\\n')[0].split(' ')[-1] + ':00'\n",
    "    return string\n",
    "a['DURATION_FLIGHT'] = a['DURATION_FLIGHT'].apply(convert_to_string)\n",
    "a['DURATION_FLIGHT']"
   ]
  },
  {
   "cell_type": "code",
   "execution_count": null,
   "metadata": {},
   "outputs": [],
   "source": [
    "# convert DURATION from string to timedelta object\n",
    "#a['DURATION_FLIGHT']= pd.to_timedelta(a['DURATION_FLIGHT'])\n",
    "#a['DURATION_FLIGHT']"
   ]
  },
  {
   "cell_type": "code",
   "execution_count": null,
   "metadata": {},
   "outputs": [],
   "source": [
    "#timedelta.round(freq='H')"
   ]
  },
  {
   "cell_type": "code",
   "execution_count": null,
   "metadata": {},
   "outputs": [],
   "source": [
    "# convert DURATION from timedelta object to total seconds in float type\n",
    "#a['DURATION_FLIGHT'] = a['DURATION_FLIGHT'].apply(lambda x: x.total_seconds())\n",
    "#a['DURATION_FLIGHT']"
   ]
  },
  {
   "cell_type": "code",
   "execution_count": null,
   "metadata": {},
   "outputs": [],
   "source": [
    "a"
   ]
  },
  {
   "cell_type": "code",
   "execution_count": null,
   "metadata": {},
   "outputs": [],
   "source": []
  },
  {
   "cell_type": "markdown",
   "metadata": {},
   "source": [
    "# Adding the Column Features for Pre-pandemic/Post-pandemic as 0/1</h3>"
   ]
  },
  {
   "cell_type": "code",
   "execution_count": null,
   "metadata": {},
   "outputs": [],
   "source": [
    "import datetime as dt"
   ]
  },
  {
   "cell_type": "code",
   "execution_count": null,
   "metadata": {},
   "outputs": [],
   "source": [
    "# # adding pandemic features\n",
    "b = a\n",
    "\n",
    "# # 0: pre-pandemic, 1: post-pandemic\n",
    "b['Pandemic'] = (df_all['DEPARTURE_DATE'] > dt.date(2020,3,20)).apply(lambda x: int(x))"
   ]
  },
  {
   "cell_type": "markdown",
   "metadata": {},
   "source": [
    "# Adding holiday features as 1/0</h3>"
   ]
  },
  {
   "cell_type": "code",
   "execution_count": null,
   "metadata": {},
   "outputs": [],
   "source": [
    "#pip install holidays\n",
    "import holidays"
   ]
  },
  {
   "cell_type": "code",
   "execution_count": null,
   "metadata": {},
   "outputs": [],
   "source": [
    "import holidays\n",
    "\n",
    "# get holidays of US\n",
    "us_holidays = holidays.UnitedStates()"
   ]
  },
  {
   "cell_type": "code",
   "execution_count": null,
   "metadata": {},
   "outputs": [],
   "source": [
    "# adding holiday features\n",
    "\n",
    "## check if a date is a US holiday\n",
    "def checkHoliday(date):\n",
    "    holiday_name = us_holidays.get(date.strftime(\"%m-%d-%Y\"))\n",
    "    if holiday_name != None:\n",
    "        return int(1)\n",
    "    else:\n",
    "        return int(0)\n",
    "\n",
    "b['Holidays'] = b['DEPARTURE_DATE'].apply(lambda x: checkHoliday(x))"
   ]
  },
  {
   "cell_type": "markdown",
   "metadata": {},
   "source": [
    "# Adding Weekday/Weekend Feature as 1/0"
   ]
  },
  {
   "cell_type": "code",
   "execution_count": null,
   "metadata": {},
   "outputs": [],
   "source": [
    "# return 1 for weekday, 0 for weekend\n",
    "def checkWeekdays(date):\n",
    "    dayOfWeek = date.weekday()\n",
    "    return int(dayOfWeek < 5)\n",
    "b['Weekday'] = b['DEPARTURE_DATE'].apply(lambda x: checkWeekdays(x))\n",
    "\n",
    "b[b.DEPARTURE_DATE == dt.date(2021,12,25)].head()"
   ]
  },
  {
   "cell_type": "code",
   "execution_count": null,
   "metadata": {},
   "outputs": [],
   "source": []
  },
  {
   "cell_type": "markdown",
   "metadata": {},
   "source": [
    "# Outputing final df"
   ]
  },
  {
   "cell_type": "code",
   "execution_count": null,
   "metadata": {},
   "outputs": [],
   "source": [
    "final_df = b.dropna()"
   ]
  },
  {
   "cell_type": "code",
   "execution_count": null,
   "metadata": {},
   "outputs": [],
   "source": []
  }
 ],
 "metadata": {
  "kernelspec": {
   "display_name": "Python 3",
   "language": "python",
   "name": "python3"
  },
  "language_info": {
   "codemirror_mode": {
    "name": "ipython",
    "version": 3
   },
   "file_extension": ".py",
   "mimetype": "text/x-python",
   "name": "python",
   "nbconvert_exporter": "python",
   "pygments_lexer": "ipython3",
   "version": "3.7.6"
  }
 },
 "nbformat": 4,
 "nbformat_minor": 4
}
